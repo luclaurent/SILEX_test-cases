{
 "cells": [
  {
   "cell_type": "code",
   "execution_count": 1,
   "metadata": {},
   "outputs": [],
   "source": [
    "import pyvista as pv\n",
    "import numpy as np\n",
    "import pickle\n",
    "import vtk\n"
   ]
  },
  {
   "cell_type": "code",
   "execution_count": 2,
   "metadata": {},
   "outputs": [],
   "source": [
    "f = open('out.db','rb')\n",
    "\n",
    "p = pickle.Unpickler(f)\n",
    "data = p.load()\n",
    "f.close()"
   ]
  },
  {
   "cell_type": "code",
   "execution_count": 3,
   "metadata": {},
   "outputs": [],
   "source": [
    "#print(data)\n",
    "nodes=data['nodes']\n",
    "elems=data['elems']-1\n",
    "press=data['press']\n",
    "dpress=data['dpress']\n"
   ]
  },
  {
   "cell_type": "code",
   "execution_count": 4,
   "metadata": {},
   "outputs": [
    {
     "data": {
      "text/plain": [
       "(22983, 4)"
      ]
     },
     "execution_count": 4,
     "metadata": {},
     "output_type": "execute_result"
    }
   ],
   "source": [
    "elems.shape"
   ]
  },
  {
   "cell_type": "code",
   "execution_count": 5,
   "metadata": {},
   "outputs": [
    {
     "data": {
      "text/plain": [
       "(4470,)"
      ]
     },
     "execution_count": 5,
     "metadata": {},
     "output_type": "execute_result"
    }
   ],
   "source": [
    "press[0].shape"
   ]
  },
  {
   "cell_type": "code",
   "execution_count": 6,
   "metadata": {},
   "outputs": [
    {
     "data": {
      "text/plain": [
       "array([[1.],\n",
       "       [1.],\n",
       "       [1.],\n",
       "       [1.],\n",
       "       [1.],\n",
       "       [1.],\n",
       "       [1.],\n",
       "       [1.],\n",
       "       [1.],\n",
       "       [1.]])"
      ]
     },
     "execution_count": 6,
     "metadata": {},
     "output_type": "execute_result"
    }
   ],
   "source": [
    "np.ones(10)[:,np.newaxis]\n"
   ]
  },
  {
   "cell_type": "code",
   "execution_count": 7,
   "metadata": {},
   "outputs": [],
   "source": [
    "offset = np.array([0],dtype=np.uint8)\n",
    "numnodes=elems.shape[1]*np.ones(elems.shape[0],dtype=np.uint8)[:,np.newaxis]\n",
    "cells=np.hstack([numnodes,elems])\n"
   ]
  },
  {
   "cell_type": "code",
   "execution_count": 8,
   "metadata": {},
   "outputs": [
    {
     "data": {
      "text/plain": [
       "array([   4,  463, 2527, ..., 1598, 3242, 3314])"
      ]
     },
     "execution_count": 8,
     "metadata": {},
     "output_type": "execute_result"
    }
   ],
   "source": [
    "cells.ravel()"
   ]
  },
  {
   "cell_type": "code",
   "execution_count": 9,
   "metadata": {},
   "outputs": [],
   "source": [
    "celltypes = np.empty(elems.shape[0],dtype = np.uint8)\n",
    "celltypes[:] = vtk.VTK_TETRA"
   ]
  },
  {
   "cell_type": "code",
   "execution_count": 10,
   "metadata": {},
   "outputs": [],
   "source": [
    "grid = pv.UnstructuredGrid(cells.ravel(),celltypes,nodes)"
   ]
  },
  {
   "cell_type": "code",
   "execution_count": 11,
   "metadata": {},
   "outputs": [],
   "source": [
    "for i in range(len(press)):\n",
    "    nametxt = 'Pressure (real) freq. {:03d}'.format(i)\n",
    "    grid[nametxt] = np.real(press[i])"
   ]
  },
  {
   "cell_type": "code",
   "execution_count": 12,
   "metadata": {},
   "outputs": [
    {
     "data": {
      "text/html": [
       "<table><tr><th>Header</th><th>Data Arrays</th></tr><tr><td>\n",
       "<table>\n",
       "<tr><th>UnstructuredGrid</th><th>Information</th></tr>\n",
       "<tr><td>N Cells</td><td>22983</td></tr>\n",
       "<tr><td>N Points</td><td>4470</td></tr>\n",
       "<tr><td>X Bounds</td><td>0.000e+00, 7.000e+00</td></tr>\n",
       "<tr><td>Y Bounds</td><td>0.000e+00, 5.000e+00</td></tr>\n",
       "<tr><td>Z Bounds</td><td>0.000e+00, 2.500e+00</td></tr>\n",
       "<tr><td>N Arrays</td><td>298</td></tr>\n",
       "</table>\n",
       "\n",
       "</td><td>\n",
       "<table>\n",
       "<tr><th>Name</th><th>Field</th><th>Type</th><th>N Comp</th><th>Min</th><th>Max</th></tr>\n",
       "<tr><td>Pressure (real) freq. 000</td><td>Points</td><td>float64</td><td>1</td><td>-7.872e-02</td><td>8.075e-01</td></tr>\n",
       "<tr><td>Pressure (real) freq. 001</td><td>Points</td><td>float64</td><td>1</td><td>-8.150e-02</td><td>8.918e-01</td></tr>\n",
       "<tr><td>Pressure (real) freq. 002</td><td>Points</td><td>float64</td><td>1</td><td>-8.456e-02</td><td>9.802e-01</td></tr>\n",
       "<tr><td>Pressure (real) freq. 003</td><td>Points</td><td>float64</td><td>1</td><td>-8.792e-02</td><td>1.073e+00</td></tr>\n",
       "<tr><td>Pressure (real) freq. 004</td><td>Points</td><td>float64</td><td>1</td><td>-9.163e-02</td><td>1.169e+00</td></tr>\n",
       "<tr><td>Pressure (real) freq. 005</td><td>Points</td><td>float64</td><td>1</td><td>-9.574e-02</td><td>1.270e+00</td></tr>\n",
       "<tr><td>Pressure (real) freq. 006</td><td>Points</td><td>float64</td><td>1</td><td>-1.003e-01</td><td>1.375e+00</td></tr>\n",
       "<tr><td>Pressure (real) freq. 007</td><td>Points</td><td>float64</td><td>1</td><td>-1.053e-01</td><td>1.485e+00</td></tr>\n",
       "<tr><td>Pressure (real) freq. 008</td><td>Points</td><td>float64</td><td>1</td><td>-1.109e-01</td><td>1.599e+00</td></tr>\n",
       "<tr><td>Pressure (real) freq. 009</td><td>Points</td><td>float64</td><td>1</td><td>-1.172e-01</td><td>1.718e+00</td></tr>\n",
       "<tr><td>Pressure (real) freq. 010</td><td>Points</td><td>float64</td><td>1</td><td>-1.243e-01</td><td>1.841e+00</td></tr>\n",
       "<tr><td>Pressure (real) freq. 011</td><td>Points</td><td>float64</td><td>1</td><td>-1.322e-01</td><td>1.969e+00</td></tr>\n",
       "<tr><td>Pressure (real) freq. 012</td><td>Points</td><td>float64</td><td>1</td><td>-1.412e-01</td><td>2.102e+00</td></tr>\n",
       "<tr><td>Pressure (real) freq. 013</td><td>Points</td><td>float64</td><td>1</td><td>-1.515e-01</td><td>2.240e+00</td></tr>\n",
       "<tr><td>Pressure (real) freq. 014</td><td>Points</td><td>float64</td><td>1</td><td>-1.633e-01</td><td>2.383e+00</td></tr>\n",
       "<tr><td>Pressure (real) freq. 015</td><td>Points</td><td>float64</td><td>1</td><td>-1.770e-01</td><td>2.533e+00</td></tr>\n",
       "<tr><td>Pressure (real) freq. 016</td><td>Points</td><td>float64</td><td>1</td><td>-1.929e-01</td><td>2.688e+00</td></tr>\n",
       "<tr><td>Pressure (real) freq. 017</td><td>Points</td><td>float64</td><td>1</td><td>-2.117e-01</td><td>2.850e+00</td></tr>\n",
       "<tr><td>Pressure (real) freq. 018</td><td>Points</td><td>float64</td><td>1</td><td>-2.341e-01</td><td>3.020e+00</td></tr>\n",
       "<tr><td>Pressure (real) freq. 019</td><td>Points</td><td>float64</td><td>1</td><td>-2.613e-01</td><td>3.199e+00</td></tr>\n",
       "<tr><td>Pressure (real) freq. 020</td><td>Points</td><td>float64</td><td>1</td><td>-2.948e-01</td><td>3.387e+00</td></tr>\n",
       "<tr><td>Pressure (real) freq. 021</td><td>Points</td><td>float64</td><td>1</td><td>-3.370e-01</td><td>3.588e+00</td></tr>\n",
       "<tr><td>Pressure (real) freq. 022</td><td>Points</td><td>float64</td><td>1</td><td>-3.916e-01</td><td>3.805e+00</td></tr>\n",
       "<tr><td>Pressure (real) freq. 023</td><td>Points</td><td>float64</td><td>1</td><td>-4.648e-01</td><td>4.043e+00</td></tr>\n",
       "<tr><td>Pressure (real) freq. 024</td><td>Points</td><td>float64</td><td>1</td><td>-5.675e-01</td><td>4.313e+00</td></tr>\n",
       "<tr><td>Pressure (real) freq. 025</td><td>Points</td><td>float64</td><td>1</td><td>-7.216e-01</td><td>4.636e+00</td></tr>\n",
       "<tr><td>Pressure (real) freq. 026</td><td>Points</td><td>float64</td><td>1</td><td>-9.768e-01</td><td>5.058e+00</td></tr>\n",
       "<tr><td>Pressure (real) freq. 027</td><td>Points</td><td>float64</td><td>1</td><td>-1.476e+00</td><td>5.713e+00</td></tr>\n",
       "<tr><td>Pressure (real) freq. 028</td><td>Points</td><td>float64</td><td>1</td><td>-2.845e+00</td><td>7.187e+00</td></tr>\n",
       "<tr><td>Pressure (real) freq. 029</td><td>Points</td><td>float64</td><td>1</td><td>-1.859e+00</td><td>6.460e+00</td></tr>\n",
       "<tr><td>Pressure (real) freq. 030</td><td>Points</td><td>float64</td><td>1</td><td>-2.922e+00</td><td>3.195e+00</td></tr>\n",
       "<tr><td>Pressure (real) freq. 031</td><td>Points</td><td>float64</td><td>1</td><td>-1.511e+00</td><td>3.545e+00</td></tr>\n",
       "<tr><td>Pressure (real) freq. 032</td><td>Points</td><td>float64</td><td>1</td><td>-1.111e+00</td><td>4.252e+00</td></tr>\n",
       "<tr><td>Pressure (real) freq. 033</td><td>Points</td><td>float64</td><td>1</td><td>-9.210e-01</td><td>4.717e+00</td></tr>\n",
       "<tr><td>Pressure (real) freq. 034</td><td>Points</td><td>float64</td><td>1</td><td>-8.156e-01</td><td>5.087e+00</td></tr>\n",
       "<tr><td>Pressure (real) freq. 035</td><td>Points</td><td>float64</td><td>1</td><td>-7.549e-01</td><td>5.411e+00</td></tr>\n",
       "<tr><td>Pressure (real) freq. 036</td><td>Points</td><td>float64</td><td>1</td><td>-7.195e-01</td><td>5.712e+00</td></tr>\n",
       "<tr><td>Pressure (real) freq. 037</td><td>Points</td><td>float64</td><td>1</td><td>-6.999e-01</td><td>6.001e+00</td></tr>\n",
       "<tr><td>Pressure (real) freq. 038</td><td>Points</td><td>float64</td><td>1</td><td>-6.920e-01</td><td>6.283e+00</td></tr>\n",
       "<tr><td>Pressure (real) freq. 039</td><td>Points</td><td>float64</td><td>1</td><td>-6.933e-01</td><td>6.563e+00</td></tr>\n",
       "<tr><td>Pressure (real) freq. 040</td><td>Points</td><td>float64</td><td>1</td><td>-7.027e-01</td><td>6.844e+00</td></tr>\n",
       "<tr><td>Pressure (real) freq. 041</td><td>Points</td><td>float64</td><td>1</td><td>-7.195e-01</td><td>7.127e+00</td></tr>\n",
       "<tr><td>Pressure (real) freq. 042</td><td>Points</td><td>float64</td><td>1</td><td>-7.438e-01</td><td>7.414e+00</td></tr>\n",
       "<tr><td>Pressure (real) freq. 043</td><td>Points</td><td>float64</td><td>1</td><td>-7.760e-01</td><td>7.706e+00</td></tr>\n",
       "<tr><td>Pressure (real) freq. 044</td><td>Points</td><td>float64</td><td>1</td><td>-8.171e-01</td><td>8.005e+00</td></tr>\n",
       "<tr><td>Pressure (real) freq. 045</td><td>Points</td><td>float64</td><td>1</td><td>-8.686e-01</td><td>8.313e+00</td></tr>\n",
       "<tr><td>Pressure (real) freq. 046</td><td>Points</td><td>float64</td><td>1</td><td>-9.326e-01</td><td>8.631e+00</td></tr>\n",
       "<tr><td>Pressure (real) freq. 047</td><td>Points</td><td>float64</td><td>1</td><td>-1.013e+00</td><td>8.962e+00</td></tr>\n",
       "<tr><td>Pressure (real) freq. 048</td><td>Points</td><td>float64</td><td>1</td><td>-1.113e+00</td><td>9.310e+00</td></tr>\n",
       "<tr><td>Pressure (real) freq. 049</td><td>Points</td><td>float64</td><td>1</td><td>-1.243e+00</td><td>9.679e+00</td></tr>\n",
       "<tr><td>Pressure (real) freq. 050</td><td>Points</td><td>float64</td><td>1</td><td>-1.412e+00</td><td>1.008e+01</td></tr>\n",
       "<tr><td>Pressure (real) freq. 051</td><td>Points</td><td>float64</td><td>1</td><td>-1.642e+00</td><td>1.052e+01</td></tr>\n",
       "<tr><td>Pressure (real) freq. 052</td><td>Points</td><td>float64</td><td>1</td><td>-1.970e+00</td><td>1.103e+01</td></tr>\n",
       "<tr><td>Pressure (real) freq. 053</td><td>Points</td><td>float64</td><td>1</td><td>-2.470e+00</td><td>1.165e+01</td></tr>\n",
       "<tr><td>Pressure (real) freq. 054</td><td>Points</td><td>float64</td><td>1</td><td>-3.315e+00</td><td>1.249e+01</td></tr>\n",
       "<tr><td>Pressure (real) freq. 055</td><td>Points</td><td>float64</td><td>1</td><td>-5.013e+00</td><td>1.388e+01</td></tr>\n",
       "<tr><td>Pressure (real) freq. 056</td><td>Points</td><td>float64</td><td>1</td><td>-9.541e+00</td><td>1.707e+01</td></tr>\n",
       "<tr><td>Pressure (real) freq. 057</td><td>Points</td><td>float64</td><td>1</td><td>-6.463e+00</td><td>9.630e+00</td></tr>\n",
       "<tr><td>Pressure (real) freq. 058</td><td>Points</td><td>float64</td><td>1</td><td>-4.928e+00</td><td>7.163e+00</td></tr>\n",
       "<tr><td>Pressure (real) freq. 059</td><td>Points</td><td>float64</td><td>1</td><td>-3.130e+00</td><td>9.352e+00</td></tr>\n",
       "<tr><td>Pressure (real) freq. 060</td><td>Points</td><td>float64</td><td>1</td><td>-2.395e+00</td><td>1.049e+01</td></tr>\n",
       "<tr><td>Pressure (real) freq. 061</td><td>Points</td><td>float64</td><td>1</td><td>-2.012e+00</td><td>1.127e+01</td></tr>\n",
       "<tr><td>Pressure (real) freq. 062</td><td>Points</td><td>float64</td><td>1</td><td>-1.784e+00</td><td>1.189e+01</td></tr>\n",
       "<tr><td>Pressure (real) freq. 063</td><td>Points</td><td>float64</td><td>1</td><td>-1.638e+00</td><td>1.244e+01</td></tr>\n",
       "<tr><td>Pressure (real) freq. 064</td><td>Points</td><td>float64</td><td>1</td><td>-1.541e+00</td><td>1.294e+01</td></tr>\n",
       "<tr><td>Pressure (real) freq. 065</td><td>Points</td><td>float64</td><td>1</td><td>-1.477e+00</td><td>1.342e+01</td></tr>\n",
       "<tr><td>Pressure (real) freq. 066</td><td>Points</td><td>float64</td><td>1</td><td>-1.437e+00</td><td>1.389e+01</td></tr>\n",
       "<tr><td>Pressure (real) freq. 067</td><td>Points</td><td>float64</td><td>1</td><td>-1.415e+00</td><td>1.435e+01</td></tr>\n",
       "<tr><td>Pressure (real) freq. 068</td><td>Points</td><td>float64</td><td>1</td><td>-1.407e+00</td><td>1.482e+01</td></tr>\n",
       "<tr><td>Pressure (real) freq. 069</td><td>Points</td><td>float64</td><td>1</td><td>-1.413e+00</td><td>1.529e+01</td></tr>\n",
       "<tr><td>Pressure (real) freq. 070</td><td>Points</td><td>float64</td><td>1</td><td>-1.432e+00</td><td>1.578e+01</td></tr>\n",
       "<tr><td>Pressure (real) freq. 071</td><td>Points</td><td>float64</td><td>1</td><td>-1.464e+00</td><td>1.628e+01</td></tr>\n",
       "<tr><td>Pressure (real) freq. 072</td><td>Points</td><td>float64</td><td>1</td><td>-1.511e+00</td><td>1.681e+01</td></tr>\n",
       "<tr><td>Pressure (real) freq. 073</td><td>Points</td><td>float64</td><td>1</td><td>-1.576e+00</td><td>1.738e+01</td></tr>\n",
       "<tr><td>Pressure (real) freq. 074</td><td>Points</td><td>float64</td><td>1</td><td>-1.664e+00</td><td>1.801e+01</td></tr>\n",
       "<tr><td>Pressure (real) freq. 075</td><td>Points</td><td>float64</td><td>1</td><td>-1.870e+00</td><td>1.873e+01</td></tr>\n",
       "<tr><td>Pressure (real) freq. 076</td><td>Points</td><td>float64</td><td>1</td><td>-2.364e+00</td><td>1.964e+01</td></tr>\n",
       "<tr><td>Pressure (real) freq. 077</td><td>Points</td><td>float64</td><td>1</td><td>-3.376e+00</td><td>2.092e+01</td></tr>\n",
       "<tr><td>Pressure (real) freq. 078</td><td>Points</td><td>float64</td><td>1</td><td>-5.927e+00</td><td>2.317e+01</td></tr>\n",
       "<tr><td>Pressure (real) freq. 079</td><td>Points</td><td>float64</td><td>1</td><td>-3.847e+00</td><td>1.840e+01</td></tr>\n",
       "<tr><td>Pressure (real) freq. 080</td><td>Points</td><td>float64</td><td>1</td><td>-5.534e+00</td><td>1.942e+01</td></tr>\n",
       "<tr><td>Pressure (real) freq. 081</td><td>Points</td><td>float64</td><td>1</td><td>-4.559e+00</td><td>2.105e+01</td></tr>\n",
       "<tr><td>Pressure (real) freq. 082</td><td>Points</td><td>float64</td><td>1</td><td>-7.760e+00</td><td>1.473e+01</td></tr>\n",
       "<tr><td>Pressure (real) freq. 083</td><td>Points</td><td>float64</td><td>1</td><td>-5.220e+00</td><td>1.719e+01</td></tr>\n",
       "<tr><td>Pressure (real) freq. 084</td><td>Points</td><td>float64</td><td>1</td><td>-3.979e+00</td><td>1.862e+01</td></tr>\n",
       "<tr><td>Pressure (real) freq. 085</td><td>Points</td><td>float64</td><td>1</td><td>-3.293e+00</td><td>1.963e+01</td></tr>\n",
       "<tr><td>Pressure (real) freq. 086</td><td>Points</td><td>float64</td><td>1</td><td>-2.864e+00</td><td>2.045e+01</td></tr>\n",
       "<tr><td>Pressure (real) freq. 087</td><td>Points</td><td>float64</td><td>1</td><td>-2.576e+00</td><td>2.118e+01</td></tr>\n",
       "<tr><td>Pressure (real) freq. 088</td><td>Points</td><td>float64</td><td>1</td><td>-2.376e+00</td><td>2.185e+01</td></tr>\n",
       "<tr><td>Pressure (real) freq. 089</td><td>Points</td><td>float64</td><td>1</td><td>-2.235e+00</td><td>2.250e+01</td></tr>\n",
       "<tr><td>Pressure (real) freq. 090</td><td>Points</td><td>float64</td><td>1</td><td>-2.138e+00</td><td>2.314e+01</td></tr>\n",
       "<tr><td>Pressure (real) freq. 091</td><td>Points</td><td>float64</td><td>1</td><td>-2.073e+00</td><td>2.376e+01</td></tr>\n",
       "<tr><td>Pressure (real) freq. 092</td><td>Points</td><td>float64</td><td>1</td><td>-2.036e+00</td><td>2.439e+01</td></tr>\n",
       "<tr><td>Pressure (real) freq. 093</td><td>Points</td><td>float64</td><td>1</td><td>-2.024e+00</td><td>2.503e+01</td></tr>\n",
       "<tr><td>Pressure (real) freq. 094</td><td>Points</td><td>float64</td><td>1</td><td>-2.034e+00</td><td>2.568e+01</td></tr>\n",
       "<tr><td>Pressure (real) freq. 095</td><td>Points</td><td>float64</td><td>1</td><td>-2.067e+00</td><td>2.634e+01</td></tr>\n",
       "<tr><td>Pressure (real) freq. 096</td><td>Points</td><td>float64</td><td>1</td><td>-2.124e+00</td><td>2.703e+01</td></tr>\n",
       "<tr><td>Pressure (real) freq. 097</td><td>Points</td><td>float64</td><td>1</td><td>-2.209e+00</td><td>2.775e+01</td></tr>\n",
       "<tr><td>Pressure (real) freq. 098</td><td>Points</td><td>float64</td><td>1</td><td>-2.326e+00</td><td>2.850e+01</td></tr>\n",
       "<tr><td>Pressure (real) freq. 099</td><td>Points</td><td>float64</td><td>1</td><td>-2.563e+00</td><td>2.930e+01</td></tr>\n",
       "<tr><td>Pressure (real) freq. 100</td><td>Points</td><td>float64</td><td>1</td><td>-2.942e+00</td><td>3.017e+01</td></tr>\n",
       "<tr><td>Pressure (real) freq. 101</td><td>Points</td><td>float64</td><td>1</td><td>-3.427e+00</td><td>3.113e+01</td></tr>\n",
       "<tr><td>Pressure (real) freq. 102</td><td>Points</td><td>float64</td><td>1</td><td>-4.077e+00</td><td>3.223e+01</td></tr>\n",
       "<tr><td>Pressure (real) freq. 103</td><td>Points</td><td>float64</td><td>1</td><td>-4.993e+00</td><td>3.355e+01</td></tr>\n",
       "<tr><td>Pressure (real) freq. 104</td><td>Points</td><td>float64</td><td>1</td><td>-6.381e+00</td><td>3.525e+01</td></tr>\n",
       "<tr><td>Pressure (real) freq. 105</td><td>Points</td><td>float64</td><td>1</td><td>-8.709e+00</td><td>3.770e+01</td></tr>\n",
       "<tr><td>Pressure (real) freq. 106</td><td>Points</td><td>float64</td><td>1</td><td>-1.312e+01</td><td>4.180e+01</td></tr>\n",
       "<tr><td>Pressure (real) freq. 107</td><td>Points</td><td>float64</td><td>1</td><td>-1.810e+01</td><td>4.636e+01</td></tr>\n",
       "<tr><td>Pressure (real) freq. 108</td><td>Points</td><td>float64</td><td>1</td><td>-1.442e+01</td><td>1.982e+01</td></tr>\n",
       "<tr><td>Pressure (real) freq. 109</td><td>Points</td><td>float64</td><td>1</td><td>-1.148e+01</td><td>2.292e+01</td></tr>\n",
       "<tr><td>Pressure (real) freq. 110</td><td>Points</td><td>float64</td><td>1</td><td>-8.130e+00</td><td>2.721e+01</td></tr>\n",
       "<tr><td>Pressure (real) freq. 111</td><td>Points</td><td>float64</td><td>1</td><td>-6.359e+00</td><td>2.984e+01</td></tr>\n",
       "<tr><td>Pressure (real) freq. 112</td><td>Points</td><td>float64</td><td>1</td><td>-5.432e+00</td><td>3.175e+01</td></tr>\n",
       "<tr><td>Pressure (real) freq. 113</td><td>Points</td><td>float64</td><td>1</td><td>-4.985e+00</td><td>3.333e+01</td></tr>\n",
       "<tr><td>Pressure (real) freq. 114</td><td>Points</td><td>float64</td><td>1</td><td>-4.837e+00</td><td>3.475e+01</td></tr>\n",
       "<tr><td>Pressure (real) freq. 115</td><td>Points</td><td>float64</td><td>1</td><td>-4.820e+00</td><td>3.612e+01</td></tr>\n",
       "<tr><td>Pressure (real) freq. 116</td><td>Points</td><td>float64</td><td>1</td><td>-5.040e+00</td><td>3.751e+01</td></tr>\n",
       "<tr><td>Pressure (real) freq. 117</td><td>Points</td><td>float64</td><td>1</td><td>-5.450e+00</td><td>3.903e+01</td></tr>\n",
       "<tr><td>Pressure (real) freq. 118</td><td>Points</td><td>float64</td><td>1</td><td>-6.178e+00</td><td>4.080e+01</td></tr>\n",
       "<tr><td>Pressure (real) freq. 119</td><td>Points</td><td>float64</td><td>1</td><td>-7.563e+00</td><td>4.313e+01</td></tr>\n",
       "<tr><td>Pressure (real) freq. 120</td><td>Points</td><td>float64</td><td>1</td><td>-1.126e+01</td><td>4.641e+01</td></tr>\n",
       "<tr><td>Pressure (real) freq. 121</td><td>Points</td><td>float64</td><td>1</td><td>-5.126e+00</td><td>4.176e+01</td></tr>\n",
       "<tr><td>Pressure (real) freq. 122</td><td>Points</td><td>float64</td><td>1</td><td>-1.467e+01</td><td>3.626e+01</td></tr>\n",
       "<tr><td>Pressure (real) freq. 123</td><td>Points</td><td>float64</td><td>1</td><td>-1.223e+01</td><td>3.999e+01</td></tr>\n",
       "<tr><td>Pressure (real) freq. 124</td><td>Points</td><td>float64</td><td>1</td><td>-1.144e+01</td><td>4.330e+01</td></tr>\n",
       "<tr><td>Pressure (real) freq. 125</td><td>Points</td><td>float64</td><td>1</td><td>-1.165e+01</td><td>4.643e+01</td></tr>\n",
       "<tr><td>Pressure (real) freq. 126</td><td>Points</td><td>float64</td><td>1</td><td>-1.067e+01</td><td>4.292e+01</td></tr>\n",
       "<tr><td>Pressure (real) freq. 127</td><td>Points</td><td>float64</td><td>1</td><td>-1.252e+01</td><td>4.471e+01</td></tr>\n",
       "<tr><td>Pressure (real) freq. 128</td><td>Points</td><td>float64</td><td>1</td><td>-1.218e+01</td><td>4.880e+01</td></tr>\n",
       "<tr><td>Pressure (real) freq. 129</td><td>Points</td><td>float64</td><td>1</td><td>-1.356e+01</td><td>5.382e+01</td></tr>\n",
       "<tr><td>Pressure (real) freq. 130</td><td>Points</td><td>float64</td><td>1</td><td>-1.236e+01</td><td>5.416e+01</td></tr>\n",
       "<tr><td>Pressure (real) freq. 131</td><td>Points</td><td>float64</td><td>1</td><td>-2.206e+01</td><td>3.948e+01</td></tr>\n",
       "<tr><td>Pressure (real) freq. 132</td><td>Points</td><td>float64</td><td>1</td><td>-1.884e+01</td><td>4.536e+01</td></tr>\n",
       "<tr><td>Pressure (real) freq. 133</td><td>Points</td><td>float64</td><td>1</td><td>-2.084e+01</td><td>5.250e+01</td></tr>\n",
       "<tr><td>Pressure (real) freq. 134</td><td>Points</td><td>float64</td><td>1</td><td>-1.871e+01</td><td>5.398e+01</td></tr>\n",
       "<tr><td>Pressure (real) freq. 135</td><td>Points</td><td>float64</td><td>1</td><td>-3.063e+01</td><td>3.206e+01</td></tr>\n",
       "<tr><td>Pressure (real) freq. 136</td><td>Points</td><td>float64</td><td>1</td><td>-2.642e+01</td><td>3.661e+01</td></tr>\n",
       "<tr><td>Pressure (real) freq. 137</td><td>Points</td><td>float64</td><td>1</td><td>-2.206e+01</td><td>4.159e+01</td></tr>\n",
       "<tr><td>Pressure (real) freq. 138</td><td>Points</td><td>float64</td><td>1</td><td>-1.978e+01</td><td>4.526e+01</td></tr>\n",
       "<tr><td>Pressure (real) freq. 139</td><td>Points</td><td>float64</td><td>1</td><td>-1.872e+01</td><td>4.834e+01</td></tr>\n",
       "<tr><td>Pressure (real) freq. 140</td><td>Points</td><td>float64</td><td>1</td><td>-1.852e+01</td><td>5.126e+01</td></tr>\n",
       "<tr><td>Pressure (real) freq. 141</td><td>Points</td><td>float64</td><td>1</td><td>-1.906e+01</td><td>5.431e+01</td></tr>\n",
       "<tr><td>Pressure (real) freq. 142</td><td>Points</td><td>float64</td><td>1</td><td>-2.045e+01</td><td>5.779e+01</td></tr>\n",
       "<tr><td>Pressure (real) freq. 143</td><td>Points</td><td>float64</td><td>1</td><td>-2.302e+01</td><td>6.217e+01</td></tr>\n",
       "<tr><td>Pressure (real) freq. 144</td><td>Points</td><td>float64</td><td>1</td><td>-2.789e+01</td><td>6.828e+01</td></tr>\n",
       "<tr><td>Pressure (real) freq. 145</td><td>Points</td><td>float64</td><td>1</td><td>-3.662e+01</td><td>7.735e+01</td></tr>\n",
       "<tr><td>Pressure (real) freq. 146</td><td>Points</td><td>float64</td><td>1</td><td>-5.193e+01</td><td>7.993e+01</td></tr>\n",
       "<tr><td>Pressure (real) freq. 147</td><td>Points</td><td>float64</td><td>1</td><td>-1.592e+01</td><td>3.396e+01</td></tr>\n",
       "<tr><td>Pressure (real) freq. 148</td><td>Points</td><td>float64</td><td>1</td><td>-2.498e+01</td><td>3.752e+01</td></tr>\n",
       "<tr><td>Pressure (real) freq. 149</td><td>Points</td><td>float64</td><td>1</td><td>-1.770e+01</td><td>3.316e+01</td></tr>\n",
       "<tr><td>Pressure (real) freq. 150</td><td>Points</td><td>float64</td><td>1</td><td>-1.300e+01</td><td>4.026e+01</td></tr>\n",
       "<tr><td>Pressure (real) freq. 151</td><td>Points</td><td>float64</td><td>1</td><td>-1.172e+01</td><td>4.531e+01</td></tr>\n",
       "<tr><td>Pressure (real) freq. 152</td><td>Points</td><td>float64</td><td>1</td><td>-1.180e+01</td><td>4.935e+01</td></tr>\n",
       "<tr><td>Pressure (real) freq. 153</td><td>Points</td><td>float64</td><td>1</td><td>-1.261e+01</td><td>5.300e+01</td></tr>\n",
       "<tr><td>Pressure (real) freq. 154</td><td>Points</td><td>float64</td><td>1</td><td>-1.437e+01</td><td>5.669e+01</td></tr>\n",
       "<tr><td>Pressure (real) freq. 155</td><td>Points</td><td>float64</td><td>1</td><td>-1.758e+01</td><td>6.090e+01</td></tr>\n",
       "<tr><td>Pressure (real) freq. 156</td><td>Points</td><td>float64</td><td>1</td><td>-2.300e+01</td><td>6.618e+01</td></tr>\n",
       "<tr><td>Pressure (real) freq. 157</td><td>Points</td><td>float64</td><td>1</td><td>-2.266e+01</td><td>6.888e+01</td></tr>\n",
       "<tr><td>Pressure (real) freq. 158</td><td>Points</td><td>float64</td><td>1</td><td>-2.203e+01</td><td>5.739e+01</td></tr>\n",
       "<tr><td>Pressure (real) freq. 159</td><td>Points</td><td>float64</td><td>1</td><td>-1.759e+01</td><td>5.434e+01</td></tr>\n",
       "<tr><td>Pressure (real) freq. 160</td><td>Points</td><td>float64</td><td>1</td><td>-2.678e+01</td><td>4.270e+01</td></tr>\n",
       "<tr><td>Pressure (real) freq. 161</td><td>Points</td><td>float64</td><td>1</td><td>-2.210e+01</td><td>4.742e+01</td></tr>\n",
       "<tr><td>Pressure (real) freq. 162</td><td>Points</td><td>float64</td><td>1</td><td>-1.795e+01</td><td>5.212e+01</td></tr>\n",
       "<tr><td>Pressure (real) freq. 163</td><td>Points</td><td>float64</td><td>1</td><td>-1.544e+01</td><td>5.569e+01</td></tr>\n",
       "<tr><td>Pressure (real) freq. 164</td><td>Points</td><td>float64</td><td>1</td><td>-1.393e+01</td><td>5.862e+01</td></tr>\n",
       "<tr><td>Pressure (real) freq. 165</td><td>Points</td><td>float64</td><td>1</td><td>-1.252e+01</td><td>6.120e+01</td></tr>\n",
       "<tr><td>Pressure (real) freq. 166</td><td>Points</td><td>float64</td><td>1</td><td>-1.159e+01</td><td>6.363e+01</td></tr>\n",
       "<tr><td>Pressure (real) freq. 167</td><td>Points</td><td>float64</td><td>1</td><td>-1.145e+01</td><td>6.602e+01</td></tr>\n",
       "<tr><td>Pressure (real) freq. 168</td><td>Points</td><td>float64</td><td>1</td><td>-1.161e+01</td><td>6.845e+01</td></tr>\n",
       "<tr><td>Pressure (real) freq. 169</td><td>Points</td><td>float64</td><td>1</td><td>-1.209e+01</td><td>7.102e+01</td></tr>\n",
       "<tr><td>Pressure (real) freq. 170</td><td>Points</td><td>float64</td><td>1</td><td>-1.298e+01</td><td>7.384e+01</td></tr>\n",
       "<tr><td>Pressure (real) freq. 171</td><td>Points</td><td>float64</td><td>1</td><td>-1.442e+01</td><td>7.707e+01</td></tr>\n",
       "<tr><td>Pressure (real) freq. 172</td><td>Points</td><td>float64</td><td>1</td><td>-1.534e+01</td><td>8.076e+01</td></tr>\n",
       "<tr><td>Pressure (real) freq. 173</td><td>Points</td><td>float64</td><td>1</td><td>-1.808e+01</td><td>8.485e+01</td></tr>\n",
       "<tr><td>Pressure (real) freq. 174</td><td>Points</td><td>float64</td><td>1</td><td>-2.473e+01</td><td>9.130e+01</td></tr>\n",
       "<tr><td>Pressure (real) freq. 175</td><td>Points</td><td>float64</td><td>1</td><td>-3.488e+01</td><td>1.005e+02</td></tr>\n",
       "<tr><td>Pressure (real) freq. 176</td><td>Points</td><td>float64</td><td>1</td><td>-3.864e+01</td><td>1.051e+02</td></tr>\n",
       "<tr><td>Pressure (real) freq. 177</td><td>Points</td><td>float64</td><td>1</td><td>-2.325e+01</td><td>5.697e+01</td></tr>\n",
       "<tr><td>Pressure (real) freq. 178</td><td>Points</td><td>float64</td><td>1</td><td>-3.758e+01</td><td>5.001e+01</td></tr>\n",
       "<tr><td>Pressure (real) freq. 179</td><td>Points</td><td>float64</td><td>1</td><td>-3.062e+01</td><td>5.403e+01</td></tr>\n",
       "<tr><td>Pressure (real) freq. 180</td><td>Points</td><td>float64</td><td>1</td><td>-2.566e+01</td><td>6.211e+01</td></tr>\n",
       "<tr><td>Pressure (real) freq. 181</td><td>Points</td><td>float64</td><td>1</td><td>-2.287e+01</td><td>6.832e+01</td></tr>\n",
       "<tr><td>Pressure (real) freq. 182</td><td>Points</td><td>float64</td><td>1</td><td>-2.151e+01</td><td>7.367e+01</td></tr>\n",
       "<tr><td>Pressure (real) freq. 183</td><td>Points</td><td>float64</td><td>1</td><td>-2.126e+01</td><td>7.886e+01</td></tr>\n",
       "<tr><td>Pressure (real) freq. 184</td><td>Points</td><td>float64</td><td>1</td><td>-2.209e+01</td><td>8.448e+01</td></tr>\n",
       "<tr><td>Pressure (real) freq. 185</td><td>Points</td><td>float64</td><td>1</td><td>-2.330e+01</td><td>9.075e+01</td></tr>\n",
       "<tr><td>Pressure (real) freq. 186</td><td>Points</td><td>float64</td><td>1</td><td>-1.880e+01</td><td>9.370e+01</td></tr>\n",
       "<tr><td>Pressure (real) freq. 187</td><td>Points</td><td>float64</td><td>1</td><td>-2.434e+01</td><td>9.698e+01</td></tr>\n",
       "<tr><td>Pressure (real) freq. 188</td><td>Points</td><td>float64</td><td>1</td><td>-1.250e+01</td><td>7.984e+01</td></tr>\n",
       "<tr><td>Pressure (real) freq. 189</td><td>Points</td><td>float64</td><td>1</td><td>-3.018e+01</td><td>5.561e+01</td></tr>\n",
       "<tr><td>Pressure (real) freq. 190</td><td>Points</td><td>float64</td><td>1</td><td>-2.676e+01</td><td>6.197e+01</td></tr>\n",
       "<tr><td>Pressure (real) freq. 191</td><td>Points</td><td>float64</td><td>1</td><td>-2.239e+01</td><td>6.963e+01</td></tr>\n",
       "<tr><td>Pressure (real) freq. 192</td><td>Points</td><td>float64</td><td>1</td><td>-1.978e+01</td><td>7.574e+01</td></tr>\n",
       "<tr><td>Pressure (real) freq. 193</td><td>Points</td><td>float64</td><td>1</td><td>-1.765e+01</td><td>7.989e+01</td></tr>\n",
       "<tr><td>Pressure (real) freq. 194</td><td>Points</td><td>float64</td><td>1</td><td>-1.839e+01</td><td>8.127e+01</td></tr>\n",
       "<tr><td>Pressure (real) freq. 195</td><td>Points</td><td>float64</td><td>1</td><td>-1.797e+01</td><td>8.500e+01</td></tr>\n",
       "<tr><td>Pressure (real) freq. 196</td><td>Points</td><td>float64</td><td>1</td><td>-1.752e+01</td><td>8.929e+01</td></tr>\n",
       "<tr><td>Pressure (real) freq. 197</td><td>Points</td><td>float64</td><td>1</td><td>-1.747e+01</td><td>9.363e+01</td></tr>\n",
       "<tr><td>Pressure (real) freq. 198</td><td>Points</td><td>float64</td><td>1</td><td>-1.782e+01</td><td>9.826e+01</td></tr>\n",
       "<tr><td>Pressure (real) freq. 199</td><td>Points</td><td>float64</td><td>1</td><td>-1.950e+01</td><td>1.035e+02</td></tr>\n",
       "<tr><td>Pressure (real) freq. 200</td><td>Points</td><td>float64</td><td>1</td><td>-2.215e+01</td><td>1.096e+02</td></tr>\n",
       "<tr><td>Pressure (real) freq. 201</td><td>Points</td><td>float64</td><td>1</td><td>-2.693e+01</td><td>1.172e+02</td></tr>\n",
       "<tr><td>Pressure (real) freq. 202</td><td>Points</td><td>float64</td><td>1</td><td>-3.226e+01</td><td>1.277e+02</td></tr>\n",
       "<tr><td>Pressure (real) freq. 203</td><td>Points</td><td>float64</td><td>1</td><td>-4.069e+01</td><td>1.407e+02</td></tr>\n",
       "<tr><td>Pressure (real) freq. 204</td><td>Points</td><td>float64</td><td>1</td><td>-3.304e+01</td><td>1.342e+02</td></tr>\n",
       "<tr><td>Pressure (real) freq. 205</td><td>Points</td><td>float64</td><td>1</td><td>-4.104e+01</td><td>6.677e+01</td></tr>\n",
       "<tr><td>Pressure (real) freq. 206</td><td>Points</td><td>float64</td><td>1</td><td>-5.412e+01</td><td>5.922e+01</td></tr>\n",
       "<tr><td>Pressure (real) freq. 207</td><td>Points</td><td>float64</td><td>1</td><td>-4.466e+01</td><td>7.407e+01</td></tr>\n",
       "<tr><td>Pressure (real) freq. 208</td><td>Points</td><td>float64</td><td>1</td><td>-3.917e+01</td><td>8.851e+01</td></tr>\n",
       "<tr><td>Pressure (real) freq. 209</td><td>Points</td><td>float64</td><td>1</td><td>-3.695e+01</td><td>1.027e+02</td></tr>\n",
       "<tr><td>Pressure (real) freq. 210</td><td>Points</td><td>float64</td><td>1</td><td>-4.008e+01</td><td>1.167e+02</td></tr>\n",
       "<tr><td>Pressure (real) freq. 211</td><td>Points</td><td>float64</td><td>1</td><td>-3.094e+01</td><td>1.088e+02</td></tr>\n",
       "<tr><td>Pressure (real) freq. 212</td><td>Points</td><td>float64</td><td>1</td><td>-3.887e+01</td><td>5.032e+01</td></tr>\n",
       "<tr><td>Pressure (real) freq. 213</td><td>Points</td><td>float64</td><td>1</td><td>-4.517e+01</td><td>4.480e+01</td></tr>\n",
       "<tr><td>Pressure (real) freq. 214</td><td>Points</td><td>float64</td><td>1</td><td>-3.593e+01</td><td>5.641e+01</td></tr>\n",
       "<tr><td>Pressure (real) freq. 215</td><td>Points</td><td>float64</td><td>1</td><td>-2.914e+01</td><td>6.616e+01</td></tr>\n",
       "<tr><td>Pressure (real) freq. 216</td><td>Points</td><td>float64</td><td>1</td><td>-2.448e+01</td><td>7.360e+01</td></tr>\n",
       "<tr><td>Pressure (real) freq. 217</td><td>Points</td><td>float64</td><td>1</td><td>-2.101e+01</td><td>7.960e+01</td></tr>\n",
       "<tr><td>Pressure (real) freq. 218</td><td>Points</td><td>float64</td><td>1</td><td>-1.830e+01</td><td>8.466e+01</td></tr>\n",
       "<tr><td>Pressure (real) freq. 219</td><td>Points</td><td>float64</td><td>1</td><td>-1.644e+01</td><td>8.843e+01</td></tr>\n",
       "<tr><td>Pressure (real) freq. 220</td><td>Points</td><td>float64</td><td>1</td><td>-1.606e+01</td><td>9.061e+01</td></tr>\n",
       "<tr><td>Pressure (real) freq. 221</td><td>Points</td><td>float64</td><td>1</td><td>-1.702e+01</td><td>9.412e+01</td></tr>\n",
       "<tr><td>Pressure (real) freq. 222</td><td>Points</td><td>float64</td><td>1</td><td>-1.799e+01</td><td>9.804e+01</td></tr>\n",
       "<tr><td>Pressure (real) freq. 223</td><td>Points</td><td>float64</td><td>1</td><td>-2.060e+01</td><td>1.018e+02</td></tr>\n",
       "<tr><td>Pressure (real) freq. 224</td><td>Points</td><td>float64</td><td>1</td><td>-1.379e+01</td><td>1.030e+02</td></tr>\n",
       "<tr><td>Pressure (real) freq. 225</td><td>Points</td><td>float64</td><td>1</td><td>-2.793e+01</td><td>1.007e+02</td></tr>\n",
       "<tr><td>Pressure (real) freq. 226</td><td>Points</td><td>float64</td><td>1</td><td>-3.016e+01</td><td>1.029e+02</td></tr>\n",
       "<tr><td>Pressure (real) freq. 227</td><td>Points</td><td>float64</td><td>1</td><td>-2.700e+01</td><td>1.063e+02</td></tr>\n",
       "<tr><td>Pressure (real) freq. 228</td><td>Points</td><td>float64</td><td>1</td><td>-2.450e+01</td><td>1.097e+02</td></tr>\n",
       "<tr><td>Pressure (real) freq. 229</td><td>Points</td><td>float64</td><td>1</td><td>-2.277e+01</td><td>1.129e+02</td></tr>\n",
       "<tr><td>Pressure (real) freq. 230</td><td>Points</td><td>float64</td><td>1</td><td>-2.137e+01</td><td>1.159e+02</td></tr>\n",
       "<tr><td>Pressure (real) freq. 231</td><td>Points</td><td>float64</td><td>1</td><td>-2.061e+01</td><td>1.191e+02</td></tr>\n",
       "<tr><td>Pressure (real) freq. 232</td><td>Points</td><td>float64</td><td>1</td><td>-2.035e+01</td><td>1.224e+02</td></tr>\n",
       "<tr><td>Pressure (real) freq. 233</td><td>Points</td><td>float64</td><td>1</td><td>-2.039e+01</td><td>1.258e+02</td></tr>\n",
       "<tr><td>Pressure (real) freq. 234</td><td>Points</td><td>float64</td><td>1</td><td>-2.073e+01</td><td>1.296e+02</td></tr>\n",
       "<tr><td>Pressure (real) freq. 235</td><td>Points</td><td>float64</td><td>1</td><td>-2.142e+01</td><td>1.338e+02</td></tr>\n",
       "<tr><td>Pressure (real) freq. 236</td><td>Points</td><td>float64</td><td>1</td><td>-2.256e+01</td><td>1.386e+02</td></tr>\n",
       "<tr><td>Pressure (real) freq. 237</td><td>Points</td><td>float64</td><td>1</td><td>-2.424e+01</td><td>1.443e+02</td></tr>\n",
       "<tr><td>Pressure (real) freq. 238</td><td>Points</td><td>float64</td><td>1</td><td>-2.570e+01</td><td>1.499e+02</td></tr>\n",
       "<tr><td>Pressure (real) freq. 239</td><td>Points</td><td>float64</td><td>1</td><td>-2.063e+01</td><td>1.475e+02</td></tr>\n",
       "<tr><td>Pressure (real) freq. 240</td><td>Points</td><td>float64</td><td>1</td><td>-2.856e+01</td><td>1.375e+02</td></tr>\n",
       "<tr><td>Pressure (real) freq. 241</td><td>Points</td><td>float64</td><td>1</td><td>-3.252e+01</td><td>1.420e+02</td></tr>\n",
       "<tr><td>Pressure (real) freq. 242</td><td>Points</td><td>float64</td><td>1</td><td>-3.235e+01</td><td>1.516e+02</td></tr>\n",
       "<tr><td>Pressure (real) freq. 243</td><td>Points</td><td>float64</td><td>1</td><td>-3.326e+01</td><td>1.623e+02</td></tr>\n",
       "<tr><td>Pressure (real) freq. 244</td><td>Points</td><td>float64</td><td>1</td><td>-3.346e+01</td><td>1.686e+02</td></tr>\n",
       "<tr><td>Pressure (real) freq. 245</td><td>Points</td><td>float64</td><td>1</td><td>-2.303e+01</td><td>1.466e+02</td></tr>\n",
       "<tr><td>Pressure (real) freq. 246</td><td>Points</td><td>float64</td><td>1</td><td>-3.842e+01</td><td>1.255e+02</td></tr>\n",
       "<tr><td>Pressure (real) freq. 247</td><td>Points</td><td>float64</td><td>1</td><td>-3.744e+01</td><td>1.331e+02</td></tr>\n",
       "<tr><td>Pressure (real) freq. 248</td><td>Points</td><td>float64</td><td>1</td><td>-3.432e+01</td><td>1.450e+02</td></tr>\n",
       "<tr><td>Pressure (real) freq. 249</td><td>Points</td><td>float64</td><td>1</td><td>-4.539e+01</td><td>1.564e+02</td></tr>\n",
       "<tr><td>Pressure (real) freq. 250</td><td>Points</td><td>float64</td><td>1</td><td>-5.200e+01</td><td>1.702e+02</td></tr>\n",
       "<tr><td>Pressure (real) freq. 251</td><td>Points</td><td>float64</td><td>1</td><td>-5.977e+01</td><td>1.845e+02</td></tr>\n",
       "<tr><td>Pressure (real) freq. 252</td><td>Points</td><td>float64</td><td>1</td><td>-7.120e+01</td><td>1.927e+02</td></tr>\n",
       "<tr><td>Pressure (real) freq. 253</td><td>Points</td><td>float64</td><td>1</td><td>-6.223e+01</td><td>1.818e+02</td></tr>\n",
       "<tr><td>Pressure (real) freq. 254</td><td>Points</td><td>float64</td><td>1</td><td>-4.419e+01</td><td>1.183e+02</td></tr>\n",
       "<tr><td>Pressure (real) freq. 255</td><td>Points</td><td>float64</td><td>1</td><td>-6.524e+01</td><td>1.007e+02</td></tr>\n",
       "<tr><td>Pressure (real) freq. 256</td><td>Points</td><td>float64</td><td>1</td><td>-5.808e+01</td><td>1.190e+02</td></tr>\n",
       "<tr><td>Pressure (real) freq. 257</td><td>Points</td><td>float64</td><td>1</td><td>-5.555e+01</td><td>1.402e+02</td></tr>\n",
       "<tr><td>Pressure (real) freq. 258</td><td>Points</td><td>float64</td><td>1</td><td>-5.075e+01</td><td>1.483e+02</td></tr>\n",
       "<tr><td>Pressure (real) freq. 259</td><td>Points</td><td>float64</td><td>1</td><td>-3.124e+01</td><td>1.070e+02</td></tr>\n",
       "<tr><td>Pressure (real) freq. 260</td><td>Points</td><td>float64</td><td>1</td><td>-5.208e+01</td><td>7.651e+01</td></tr>\n",
       "<tr><td>Pressure (real) freq. 261</td><td>Points</td><td>float64</td><td>1</td><td>-5.022e+01</td><td>8.592e+01</td></tr>\n",
       "<tr><td>Pressure (real) freq. 262</td><td>Points</td><td>float64</td><td>1</td><td>-4.421e+01</td><td>1.004e+02</td></tr>\n",
       "<tr><td>Pressure (real) freq. 263</td><td>Points</td><td>float64</td><td>1</td><td>-3.779e+01</td><td>1.107e+02</td></tr>\n",
       "<tr><td>Pressure (real) freq. 264</td><td>Points</td><td>float64</td><td>1</td><td>-4.112e+01</td><td>1.114e+02</td></tr>\n",
       "<tr><td>Pressure (real) freq. 265</td><td>Points</td><td>float64</td><td>1</td><td>-3.699e+01</td><td>1.117e+02</td></tr>\n",
       "<tr><td>Pressure (real) freq. 266</td><td>Points</td><td>float64</td><td>1</td><td>-3.553e+01</td><td>1.180e+02</td></tr>\n",
       "<tr><td>Pressure (real) freq. 267</td><td>Points</td><td>float64</td><td>1</td><td>-3.212e+01</td><td>1.256e+02</td></tr>\n",
       "<tr><td>Pressure (real) freq. 268</td><td>Points</td><td>float64</td><td>1</td><td>-2.943e+01</td><td>1.328e+02</td></tr>\n",
       "<tr><td>Pressure (real) freq. 269</td><td>Points</td><td>float64</td><td>1</td><td>-2.790e+01</td><td>1.395e+02</td></tr>\n",
       "<tr><td>Pressure (real) freq. 270</td><td>Points</td><td>float64</td><td>1</td><td>-2.747e+01</td><td>1.462e+02</td></tr>\n",
       "<tr><td>Pressure (real) freq. 271</td><td>Points</td><td>float64</td><td>1</td><td>-2.887e+01</td><td>1.530e+02</td></tr>\n",
       "<tr><td>Pressure (real) freq. 272</td><td>Points</td><td>float64</td><td>1</td><td>-3.377e+01</td><td>1.596e+02</td></tr>\n",
       "<tr><td>Pressure (real) freq. 273</td><td>Points</td><td>float64</td><td>1</td><td>-2.658e+01</td><td>1.620e+02</td></tr>\n",
       "<tr><td>Pressure (real) freq. 274</td><td>Points</td><td>float64</td><td>1</td><td>-2.343e+01</td><td>1.532e+02</td></tr>\n",
       "<tr><td>Pressure (real) freq. 275</td><td>Points</td><td>float64</td><td>1</td><td>-2.662e+01</td><td>1.509e+02</td></tr>\n",
       "<tr><td>Pressure (real) freq. 276</td><td>Points</td><td>float64</td><td>1</td><td>-2.418e+01</td><td>1.569e+02</td></tr>\n",
       "<tr><td>Pressure (real) freq. 277</td><td>Points</td><td>float64</td><td>1</td><td>-2.447e+01</td><td>1.642e+02</td></tr>\n",
       "<tr><td>Pressure (real) freq. 278</td><td>Points</td><td>float64</td><td>1</td><td>-2.617e+01</td><td>1.717e+02</td></tr>\n",
       "<tr><td>Pressure (real) freq. 279</td><td>Points</td><td>float64</td><td>1</td><td>-2.819e+01</td><td>1.793e+02</td></tr>\n",
       "<tr><td>Pressure (real) freq. 280</td><td>Points</td><td>float64</td><td>1</td><td>-3.069e+01</td><td>1.876e+02</td></tr>\n",
       "<tr><td>Pressure (real) freq. 281</td><td>Points</td><td>float64</td><td>1</td><td>-3.396e+01</td><td>1.967e+02</td></tr>\n",
       "<tr><td>Pressure (real) freq. 282</td><td>Points</td><td>float64</td><td>1</td><td>-3.912e+01</td><td>2.063e+02</td></tr>\n",
       "<tr><td>Pressure (real) freq. 283</td><td>Points</td><td>float64</td><td>1</td><td>-4.962e+01</td><td>2.131e+02</td></tr>\n",
       "<tr><td>Pressure (real) freq. 284</td><td>Points</td><td>float64</td><td>1</td><td>-6.383e+01</td><td>2.197e+02</td></tr>\n",
       "<tr><td>Pressure (real) freq. 285</td><td>Points</td><td>float64</td><td>1</td><td>-7.059e+01</td><td>2.299e+02</td></tr>\n",
       "<tr><td>Pressure (real) freq. 286</td><td>Points</td><td>float64</td><td>1</td><td>-5.008e+01</td><td>2.223e+02</td></tr>\n",
       "<tr><td>Pressure (real) freq. 287</td><td>Points</td><td>float64</td><td>1</td><td>-5.171e+01</td><td>1.932e+02</td></tr>\n",
       "<tr><td>Pressure (real) freq. 288</td><td>Points</td><td>float64</td><td>1</td><td>-6.540e+01</td><td>1.833e+02</td></tr>\n",
       "<tr><td>Pressure (real) freq. 289</td><td>Points</td><td>float64</td><td>1</td><td>-6.282e+01</td><td>1.907e+02</td></tr>\n",
       "<tr><td>Pressure (real) freq. 290</td><td>Points</td><td>float64</td><td>1</td><td>-5.694e+01</td><td>1.758e+02</td></tr>\n",
       "<tr><td>Pressure (real) freq. 291</td><td>Points</td><td>float64</td><td>1</td><td>-7.488e+01</td><td>1.614e+02</td></tr>\n",
       "<tr><td>Pressure (real) freq. 292</td><td>Points</td><td>float64</td><td>1</td><td>-7.098e+01</td><td>1.635e+02</td></tr>\n",
       "<tr><td>Pressure (real) freq. 293</td><td>Points</td><td>float64</td><td>1</td><td>-6.383e+01</td><td>1.453e+02</td></tr>\n",
       "<tr><td>Pressure (real) freq. 294</td><td>Points</td><td>float64</td><td>1</td><td>-6.471e+01</td><td>1.367e+02</td></tr>\n",
       "<tr><td>Pressure (real) freq. 295</td><td>Points</td><td>float64</td><td>1</td><td>-5.112e+01</td><td>1.326e+02</td></tr>\n",
       "<tr><td>Pressure (real) freq. 296</td><td>Points</td><td>float64</td><td>1</td><td>-5.646e+01</td><td>1.227e+02</td></tr>\n",
       "<tr><td><b>Pressure (real) freq. 297</b></td><td>Points</td><td>float64</td><td>1</td><td>-6.092e+01</td><td>1.288e+02</td></tr>\n",
       "</table>\n",
       "\n",
       "</td></tr> </table>"
      ],
      "text/plain": [
       "UnstructuredGrid (0x7ff278952d00)\n",
       "  N Cells:\t22983\n",
       "  N Points:\t4470\n",
       "  X Bounds:\t0.000e+00, 7.000e+00\n",
       "  Y Bounds:\t0.000e+00, 5.000e+00\n",
       "  Z Bounds:\t0.000e+00, 2.500e+00\n",
       "  N Arrays:\t298"
      ]
     },
     "execution_count": 12,
     "metadata": {},
     "output_type": "execute_result"
    }
   ],
   "source": [
    "grid"
   ]
  },
  {
   "cell_type": "code",
   "execution_count": 13,
   "metadata": {},
   "outputs": [
    {
     "data": {
      "application/vnd.jupyter.widget-view+json": {
       "model_id": "267220a9562349338bc843aa6b34126c",
       "version_major": 2,
       "version_minor": 0
      },
      "text/plain": [
       "Viewer(geometries=[{'vtkClass': 'vtkPolyData', 'points': {'vtkClass': 'vtkPoints', 'name': '_points', 'numberO…"
      ]
     },
     "metadata": {},
     "output_type": "display_data"
    },
    {
     "data": {
      "application/vnd.jupyter.widget-view+json": {
       "model_id": "267220a9562349338bc843aa6b34126c",
       "version_major": 2,
       "version_minor": 0
      },
      "text/plain": [
       "Viewer(geometries=[{'vtkClass': 'vtkPolyData', 'points': {'vtkClass': 'vtkPoints', 'name': '_points', 'numberO…"
      ]
     },
     "metadata": {},
     "output_type": "display_data"
    }
   ],
   "source": [
    "plotter = pv.PlotterITK(notebook=True)\n",
    "plotter.add_mesh(grid,smooth_shading=False)\n",
    "plotter.show(True)#jupyter_backend='pythreejs')"
   ]
  },
  {
   "cell_type": "code",
   "execution_count": 14,
   "metadata": {},
   "outputs": [
    {
     "data": {
      "application/vnd.jupyter.widget-view+json": {
       "model_id": "318c1586bc7340eaa0a91d260d5e23ab",
       "version_major": 2,
       "version_minor": 0
      },
      "text/plain": [
       "Renderer(camera=PerspectiveCamera(aspect=1.3333333333333333, children=(DirectionalLight(color='#fefefe', inten…"
      ]
     },
     "metadata": {},
     "output_type": "display_data"
    }
   ],
   "source": [
    "grid.plot(cpos='xy', show_scalar_bar=True,show_edges = True,jupyter_backend='pythreejs')\n"
   ]
  },
  {
   "cell_type": "code",
   "execution_count": 15,
   "metadata": {},
   "outputs": [
    {
     "ename": "NameError",
     "evalue": "name 'j' is not defined",
     "output_type": "error",
     "traceback": [
      "\u001b[0;31m---------------------------------------------------------------------------\u001b[0m",
      "\u001b[0;31mNameError\u001b[0m                                 Traceback (most recent call last)",
      "\u001b[0;32m/var/folders/fg/53phbn8n6nd3vrhm3sh_36w40000gn/T/ipykernel_8826/2696688911.py\u001b[0m in \u001b[0;36m<module>\u001b[0;34m\u001b[0m\n\u001b[0;32m----> 1\u001b[0;31m \u001b[0mj\u001b[0m\u001b[0;34m\u001b[0m\u001b[0;34m\u001b[0m\u001b[0m\n\u001b[0m",
      "\u001b[0;31mNameError\u001b[0m: name 'j' is not defined"
     ]
    }
   ],
   "source": [
    "j"
   ]
  },
  {
   "cell_type": "code",
   "execution_count": null,
   "metadata": {},
   "outputs": [
    {
     "ename": "IndexError",
     "evalue": "list index out of range",
     "output_type": "error",
     "traceback": [
      "\u001b[0;31m---------------------------------------------------------------------------\u001b[0m",
      "\u001b[0;31mIndexError\u001b[0m                                Traceback (most recent call last)",
      "\u001b[0;32m/var/folders/fg/53phbn8n6nd3vrhm3sh_36w40000gn/T/ipykernel_58324/2694575563.py\u001b[0m in \u001b[0;36m<module>\u001b[0;34m\u001b[0m\n\u001b[1;32m     11\u001b[0m \u001b[0;34m\u001b[0m\u001b[0m\n\u001b[1;32m     12\u001b[0m \u001b[0;34m\u001b[0m\u001b[0m\n\u001b[0;32m---> 13\u001b[0;31m \u001b[0mp\u001b[0m\u001b[0;34m.\u001b[0m\u001b[0mshow\u001b[0m\u001b[0;34m(\u001b[0m\u001b[0mjupyter_backend\u001b[0m\u001b[0;34m=\u001b[0m\u001b[0;34m'pythreejs'\u001b[0m\u001b[0;34m)\u001b[0m\u001b[0;34m\u001b[0m\u001b[0;34m\u001b[0m\u001b[0m\n\u001b[0m\u001b[1;32m     14\u001b[0m \u001b[0;34m\u001b[0m\u001b[0m\n",
      "\u001b[0;32m~/Documents/1DIVERS/Tools/Anaconda3/lib/python3.7/site-packages/pyvista/plotting/plotting.py\u001b[0m in \u001b[0;36mshow\u001b[0;34m(self, title, window_size, interactive, auto_close, interactive_update, full_screen, screenshot, return_img, cpos, use_ipyvtk, jupyter_backend, return_viewer, return_cpos, **kwargs)\u001b[0m\n\u001b[1;32m   4839\u001b[0m                 disp = handle_plotter(self, backend=jupyter_backend,\n\u001b[1;32m   4840\u001b[0m                                       \u001b[0mreturn_viewer\u001b[0m\u001b[0;34m=\u001b[0m\u001b[0mreturn_viewer\u001b[0m\u001b[0;34m,\u001b[0m\u001b[0;34m\u001b[0m\u001b[0;34m\u001b[0m\u001b[0m\n\u001b[0;32m-> 4841\u001b[0;31m                                       **jupyter_kwargs)\n\u001b[0m\u001b[1;32m   4842\u001b[0m                 \u001b[0;32mreturn\u001b[0m \u001b[0mdisp\u001b[0m\u001b[0;34m\u001b[0m\u001b[0;34m\u001b[0m\u001b[0m\n\u001b[1;32m   4843\u001b[0m \u001b[0;34m\u001b[0m\u001b[0m\n",
      "\u001b[0;32m~/Documents/1DIVERS/Tools/Anaconda3/lib/python3.7/site-packages/pyvista/jupyter/notebook.py\u001b[0m in \u001b[0;36mhandle_plotter\u001b[0;34m(plotter, backend, screenshot, return_viewer, **kwargs)\u001b[0m\n\u001b[1;32m     49\u001b[0m     \u001b[0;32mtry\u001b[0m\u001b[0;34m:\u001b[0m\u001b[0;34m\u001b[0m\u001b[0;34m\u001b[0m\u001b[0m\n\u001b[1;32m     50\u001b[0m         \u001b[0;32mif\u001b[0m \u001b[0mbackend\u001b[0m \u001b[0;34m==\u001b[0m \u001b[0;34m'pythreejs'\u001b[0m\u001b[0;34m:\u001b[0m\u001b[0;34m\u001b[0m\u001b[0;34m\u001b[0m\u001b[0m\n\u001b[0;32m---> 51\u001b[0;31m             \u001b[0;32mreturn\u001b[0m \u001b[0mshow_pythreejs\u001b[0m\u001b[0;34m(\u001b[0m\u001b[0mplotter\u001b[0m\u001b[0;34m,\u001b[0m \u001b[0mreturn_viewer\u001b[0m\u001b[0;34m,\u001b[0m \u001b[0;34m**\u001b[0m\u001b[0mkwargs\u001b[0m\u001b[0;34m)\u001b[0m\u001b[0;34m\u001b[0m\u001b[0;34m\u001b[0m\u001b[0m\n\u001b[0m\u001b[1;32m     52\u001b[0m         \u001b[0;32mif\u001b[0m \u001b[0mbackend\u001b[0m \u001b[0;34m==\u001b[0m \u001b[0;34m'ipyvtklink'\u001b[0m\u001b[0;34m:\u001b[0m\u001b[0;34m\u001b[0m\u001b[0;34m\u001b[0m\u001b[0m\n\u001b[1;32m     53\u001b[0m             \u001b[0;32mreturn\u001b[0m \u001b[0mshow_ipyvtk\u001b[0m\u001b[0;34m(\u001b[0m\u001b[0mplotter\u001b[0m\u001b[0;34m,\u001b[0m \u001b[0mreturn_viewer\u001b[0m\u001b[0;34m)\u001b[0m\u001b[0;34m\u001b[0m\u001b[0;34m\u001b[0m\u001b[0m\n",
      "\u001b[0;32m~/Documents/1DIVERS/Tools/Anaconda3/lib/python3.7/site-packages/pyvista/jupyter/notebook.py\u001b[0m in \u001b[0;36mshow_pythreejs\u001b[0;34m(plotter, return_viewer, **kwargs)\u001b[0m\n\u001b[1;32m    175\u001b[0m     \u001b[0;34m\"\"\"Show a pyvista plotting scene using pythreejs.\"\"\"\u001b[0m\u001b[0;34m\u001b[0m\u001b[0;34m\u001b[0m\u001b[0m\n\u001b[1;32m    176\u001b[0m     \u001b[0;32mfrom\u001b[0m \u001b[0;34m.\u001b[0m\u001b[0mpv_pythreejs\u001b[0m \u001b[0;32mimport\u001b[0m \u001b[0mconvert_plotter\u001b[0m\u001b[0;34m\u001b[0m\u001b[0;34m\u001b[0m\u001b[0m\n\u001b[0;32m--> 177\u001b[0;31m     \u001b[0mrenderer\u001b[0m \u001b[0;34m=\u001b[0m \u001b[0mconvert_plotter\u001b[0m\u001b[0;34m(\u001b[0m\u001b[0mplotter\u001b[0m\u001b[0;34m)\u001b[0m\u001b[0;34m\u001b[0m\u001b[0;34m\u001b[0m\u001b[0m\n\u001b[0m\u001b[1;32m    178\u001b[0m     \u001b[0;32mif\u001b[0m \u001b[0mreturn_viewer\u001b[0m\u001b[0;34m:\u001b[0m\u001b[0;34m\u001b[0m\u001b[0;34m\u001b[0m\u001b[0m\n\u001b[1;32m    179\u001b[0m         \u001b[0;32mreturn\u001b[0m \u001b[0mrenderer\u001b[0m\u001b[0;34m\u001b[0m\u001b[0;34m\u001b[0m\u001b[0m\n",
      "\u001b[0;32m~/Documents/1DIVERS/Tools/Anaconda3/lib/python3.7/site-packages/pyvista/jupyter/pv_pythreejs.py\u001b[0m in \u001b[0;36mconvert_plotter\u001b[0;34m(pl)\u001b[0m\n\u001b[1;32m    546\u001b[0m         \u001b[0;32mfor\u001b[0m \u001b[0mi\u001b[0m \u001b[0;32min\u001b[0m \u001b[0mrange\u001b[0m\u001b[0;34m(\u001b[0m\u001b[0mn_row\u001b[0m\u001b[0;34m)\u001b[0m\u001b[0;34m:\u001b[0m\u001b[0;34m\u001b[0m\u001b[0;34m\u001b[0m\u001b[0m\n\u001b[1;32m    547\u001b[0m             \u001b[0;32mfor\u001b[0m \u001b[0mj\u001b[0m \u001b[0;32min\u001b[0m \u001b[0mrange\u001b[0m\u001b[0;34m(\u001b[0m\u001b[0mn_col\u001b[0m\u001b[0;34m)\u001b[0m\u001b[0;34m:\u001b[0m\u001b[0;34m\u001b[0m\u001b[0;34m\u001b[0m\u001b[0m\n\u001b[0;32m--> 548\u001b[0;31m                 \u001b[0mpv_ren\u001b[0m \u001b[0;34m=\u001b[0m \u001b[0mpl\u001b[0m\u001b[0;34m.\u001b[0m\u001b[0mrenderers\u001b[0m\u001b[0;34m[\u001b[0m\u001b[0mj\u001b[0m \u001b[0;34m+\u001b[0m \u001b[0mn_row\u001b[0m\u001b[0;34m*\u001b[0m\u001b[0mi\u001b[0m\u001b[0;34m]\u001b[0m\u001b[0;34m\u001b[0m\u001b[0;34m\u001b[0m\u001b[0m\n\u001b[0m\u001b[1;32m    549\u001b[0m                 \u001b[0;32mif\u001b[0m \u001b[0mj\u001b[0m \u001b[0;34m==\u001b[0m \u001b[0;36m0\u001b[0m\u001b[0;34m:\u001b[0m\u001b[0;34m\u001b[0m\u001b[0;34m\u001b[0m\u001b[0m\n\u001b[1;32m    550\u001b[0m                     \u001b[0mheight\u001b[0m \u001b[0;34m+=\u001b[0m \u001b[0mpv_ren\u001b[0m\u001b[0;34m.\u001b[0m\u001b[0mheight\u001b[0m \u001b[0;34m+\u001b[0m \u001b[0mpv_ren\u001b[0m\u001b[0;34m.\u001b[0m\u001b[0mborder_width\u001b[0m\u001b[0;34m*\u001b[0m\u001b[0;36m2\u001b[0m\u001b[0;34m\u001b[0m\u001b[0;34m\u001b[0m\u001b[0m\n",
      "\u001b[0;32m~/Documents/1DIVERS/Tools/Anaconda3/lib/python3.7/site-packages/pyvista/plotting/renderers.py\u001b[0m in \u001b[0;36m__getitem__\u001b[0;34m(self, index)\u001b[0m\n\u001b[1;32m    215\u001b[0m     \u001b[0;32mdef\u001b[0m \u001b[0m__getitem__\u001b[0m\u001b[0;34m(\u001b[0m\u001b[0mself\u001b[0m\u001b[0;34m,\u001b[0m \u001b[0mindex\u001b[0m\u001b[0;34m)\u001b[0m\u001b[0;34m:\u001b[0m\u001b[0;34m\u001b[0m\u001b[0;34m\u001b[0m\u001b[0m\n\u001b[1;32m    216\u001b[0m         \u001b[0;34m\"\"\"Return a renderer based on an index.\"\"\"\u001b[0m\u001b[0;34m\u001b[0m\u001b[0;34m\u001b[0m\u001b[0m\n\u001b[0;32m--> 217\u001b[0;31m         \u001b[0;32mreturn\u001b[0m \u001b[0mself\u001b[0m\u001b[0;34m.\u001b[0m\u001b[0m_renderers\u001b[0m\u001b[0;34m[\u001b[0m\u001b[0mindex\u001b[0m\u001b[0;34m]\u001b[0m\u001b[0;34m\u001b[0m\u001b[0;34m\u001b[0m\u001b[0m\n\u001b[0m\u001b[1;32m    218\u001b[0m \u001b[0;34m\u001b[0m\u001b[0m\n\u001b[1;32m    219\u001b[0m     \u001b[0;32mdef\u001b[0m \u001b[0m__len__\u001b[0m\u001b[0;34m(\u001b[0m\u001b[0mself\u001b[0m\u001b[0;34m)\u001b[0m\u001b[0;34m:\u001b[0m\u001b[0;34m\u001b[0m\u001b[0;34m\u001b[0m\u001b[0m\n",
      "\u001b[0;31mIndexError\u001b[0m: list index out of range"
     ]
    }
   ],
   "source": [
    "nbfreq=10 #int(len(press)/2)\n",
    "p = pv.Plotter(shape=(nbfreq,2))\n",
    "for i in range(2):\n",
    "    for j in range(nbfreq):\n",
    "        p.subplot(j,i)\n",
    "        gridtmp=grid\n",
    "        item = 2*i+j\n",
    "        nametxt = 'Pressure (real) freq. {:03d}'.format(item+1)\n",
    "        gridtmp[nametxt]=np.real(press[item])\n",
    "        p.add_mesh(gridtmp)\n",
    "        \n",
    "    \n",
    "p.show(jupyter_backend='pythreejs')\n",
    "        "
   ]
  },
  {
   "cell_type": "code",
   "execution_count": null,
   "metadata": {},
   "outputs": [
    {
     "data": {
      "text/plain": [
       "298"
      ]
     },
     "execution_count": 59,
     "metadata": {},
     "output_type": "execute_result"
    }
   ],
   "source": [
    "len(press)"
   ]
  },
  {
   "cell_type": "code",
   "execution_count": null,
   "metadata": {},
   "outputs": [],
   "source": []
  }
 ],
 "metadata": {
  "interpreter": {
   "hash": "bf54dbb448b491794fef3e2858e6ea9c56d1f4915e2fd6cc3d550ba98ad8a746"
  },
  "kernelspec": {
   "display_name": "Python 3.7.6 64-bit ('base': conda)",
   "language": "python",
   "name": "python3"
  },
  "language_info": {
   "codemirror_mode": {
    "name": "ipython",
    "version": 3
   },
   "file_extension": ".py",
   "mimetype": "text/x-python",
   "name": "python",
   "nbconvert_exporter": "python",
   "pygments_lexer": "ipython3",
   "version": "3.7.12"
  },
  "orig_nbformat": 4
 },
 "nbformat": 4,
 "nbformat_minor": 2
}
